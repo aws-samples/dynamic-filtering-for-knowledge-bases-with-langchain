{
 "cells": [
  {
   "cell_type": "markdown",
   "metadata": {},
   "source": [
    "Copyright Amazon.com, Inc. or its affiliates. All Rights Reserved.\n",
    "SPDX-License-Identifier: MIT-0"
   ]
  },
  {
   "cell_type": "markdown",
   "metadata": {},
   "source": [
    "## Dynamic Filtering for Amazon Bedrock Knowledge Bases with LangChain"
   ]
  },
  {
   "cell_type": "markdown",
   "metadata": {},
   "source": [
    "## Introduction"
   ]
  },
  {
   "cell_type": "markdown",
   "metadata": {},
   "source": [
    "This notebook demonstrates how to implement dynamic filtering for [Amazon Bedrock Knowledge Bases](https://aws.amazon.com/bedrock/knowledge-bases/)  using [LangChain](https://www.langchain.com/). The technique presented here aims to enhance the relevance and efficiency of information retrieval in AI-powered applications.\n",
    "\n",
    "[Amazon Bedrock](https://aws.amazon.com/bedrock/) is a fully managed service that provides access to foundation models via a unified API. One of its key features, the Knowledge Base, allows organizations to integrate their proprietary data, enabling AI applications to reason over and utilize this information effectively.\n",
    "\n",
    "LangChain is an open-source framework designed to simplify the development of applications using large language models. It offers a suite of tools and abstractions that facilitate the integration of various components in an AI system, including document processing, embeddings, and vector stores.\n",
    "\n",
    "In this tutorial, we will explore how to combine these technologies to implement dynamic filtering capabilities. This approach allows for real-time adjustment of retrieval criteria based on user-specific attributes or contextual information, significantly improving the accuracy and personalization of retrieved documents.\n",
    "\n",
    "The notebook will cover the following topics:\n",
    "\n",
    "1. Configuration of a Bedrock Knowledge Base using sample travel review documents\n",
    "2. Implementation of dynamic filtering logic utilizing LangChain and Boto3\n",
    "3. Exploration of different retrieval chain architectures\n",
    "4. Testing the implementation with various scenarios and result analysis\n",
    "5. Discussion of best practices and considerations for production deployment\n",
    "\n",
    "Let's proceed with creating sample documents, setting up our environment, and examining the core concepts that will drive our implementation."
   ]
  },
  {
   "cell_type": "markdown",
   "metadata": {},
   "source": [
    "## Documents\n",
    "### Generation process\n",
    "The data requiered for this blog is included in this repository. We used Bedrock to generate sample documents and metadata, then saved them to an S3 bucket to create a Knowledge Base. Here is an example of how the data was generated:\n",
    "\n",
    "1. Using an LLM we generate 5 titles for each travel destination using the following prompt: \"Give me 5 article titles for travel review guides about {replace with destination}. The titles should reflect different articles which have recommendations from audiences of various ages and travel companions\"\n",
    "2. Next we use an LLM to generate a document for each title using the following prompt: \"Draft an article for the following title, {replace with title from above}, that has a 500 word count organized into 3 paragraphs about {replace with destination}. The article should be a travel review that highlights recommended attractions, restaurants, and sights to see, tips, and name specific top recommendations. Include an exact age of the reviewer in one of the paragraphs in the article.\"\n",
    "3. Lastly, use an LLM to generate metadata for each of the documents. The metadata attributes we included were age, desired_destination, stay_duration, activities_interest, companion, travelling_with_children, and travelling_with_pets. Save the metadata as JSON files and save with the identical name as the correlating document to the S3 bucket."
   ]
  },
  {
   "cell_type": "markdown",
   "metadata": {},
   "source": [
    "### Example Travel Review Document"
   ]
  },
  {
   "cell_type": "markdown",
   "metadata": {},
   "source": [
    "**Navigating Amsterdam's Canals: A Senior's Guide to the Venice of the North**\n",
    "\n",
    "Amsterdam, the capital of the Netherlands, is a city that has long been celebrated for its picturesque canals, rich history, and vibrant culture. Often referred to as the \"Venice of the North,\" this charming destination offers a unique blend of old-world charm and modern amenities, making it an ideal destination for seniors seeking a memorable travel experience. In this guide, we'll explore the best ways to navigate Amsterdam's iconic canals and discover the city's hidden gems.\n",
    "\n",
    "For seniors seeking a leisurely and immersive way to explore Amsterdam's waterways, a canal cruise is an absolute must. These guided tours offer a unique perspective on the city's architecture, history, and daily life. Many operators offer specialized tours catering to seniors, with comfortable seating, audio commentary, and even refreshments on board. One of the most popular options is the hop-on, hop-off canal boat tour, which allows you to explore at your own pace, disembarking at various points of interest along the way.\n",
    "\n",
    "Beyond the canals, Amsterdam boasts a wealth of cultural attractions that are sure to captivate seniors with diverse interests. The Rijksmuseum, one of the world's most renowned art museums, houses an impressive collection of Dutch Golden Age masterpieces, including works by Rembrandt and Vermeer. For those with a passion for history, the Anne Frank House offers a poignant glimpse into the life of the young diarist during World War II. Additionally, the Van Gogh Museum showcases an extensive collection of the iconic artist's works, providing a fascinating insight into his life and creative genius.\n",
    "\n",
    "When it comes to accommodations, Amsterdam offers a range of options to suit every preference and budget. For seniors seeking luxury and comfort, the city boasts several high-end hotels nestled along the picturesque canals, offering stunning views and exceptional service. Alternatively, charming boutique hotels and cozy bed-and-breakfasts provide a more intimate and authentic experience, often housed in historic buildings with modern amenities.\n",
    "\n",
    "Beyond the traditional tourist attractions, Amsterdam offers a wealth of activities and experiences tailored to seniors. Foodies will delight in the city's culinary scene, with a diverse array of restaurants serving up traditional Dutch fare as well as international cuisines. For those seeking a more relaxed pace, the city's numerous parks and gardens provide tranquil oases for leisurely strolls or picnics. Additionally, Amsterdam's vibrant cultural calendar features a variety of festivals, concerts, and exhibitions throughout the year, ensuring there's always something new to discover.\n",
    "\n",
    "In conclusion, Amsterdam's canals, rich history, and diverse attractions make it a truly captivating destination for seniors seeking a memorable travel experience. With its accessible transportation options, comfortable accommodations, and a wealth of activities catering to various interests, the \"Venice of the North\" offers a perfect blend of relaxation and exploration. Whether you're a history buff, art enthusiast, or simply seeking a charming and picturesque escape, Amsterdam's canals and cobblestone streets are sure to leave a lasting impression.\n"
   ]
  },
  {
   "cell_type": "markdown",
   "metadata": {},
   "source": [
    "### Metadata JSON for Document above"
   ]
  },
  {
   "cell_type": "markdown",
   "metadata": {},
   "source": [
    "{\n",
    "    \"metadataAttributes\": {\n",
    "        \"age\": [\n",
    "            \"53\",\n",
    "            \"54\",\n",
    "            \"55\",\n",
    "            \"56\",\n",
    "            \"57\",\n",
    "            \"58\",\n",
    "            \"59\",\n",
    "            \"60\",\n",
    "            \"61\",\n",
    "            \"62\",\n",
    "            \"63\"\n",
    "        ],\n",
    "        \"desired_destination\": \"Amsterdam, Netherlands\",\n",
    "        \"stay_duration\": \"unknown\",\n",
    "        \"preferred_month\": [\n",
    "            \"unknown\"\n",
    "        ],\n",
    "        \"activities_interest\": [\n",
    "            \"museum\",\n",
    "            \"park\",\n",
    "            \"restaurant\",\n",
    "            \"bar\",\n",
    "            \"tour\",\n",
    "            \"exhibit\",\n",
    "            \"festival\",\n",
    "            \"show\",\n",
    "            \"attractions\",\n",
    "            \"cultural attractions\",\n",
    "            \"picnic\",\n",
    "            \"canal cruise\",\n",
    "            \"gardens\"\n",
    "        ],\n",
    "        \"companion\": \"couples\",\n",
    "        \"travelling_with_children\": \"no\",\n",
    "        \"travelling_with_pets\": \"no\"\n",
    "    }\n",
    "}"
   ]
  },
  {
   "cell_type": "markdown",
   "metadata": {},
   "source": [
    "# Configure Bedrock Knowledge Base\n",
    "\n",
    "You will need a Bedrock Knowledge Base populated with documents and metadata. If you are not sure how to create that please reference [this documentation](https://docs.aws.amazon.com/bedrock/latest/userguide/s3-data-source-connector.html). There are example documents and metadata in the repo for you to [upload](https://docs.aws.amazon.com/bedrock/latest/userguide/s3-data-source-connector.html) in the console."
   ]
  },
  {
   "cell_type": "markdown",
   "metadata": {},
   "source": [
    "# Libraries"
   ]
  },
  {
   "cell_type": "code",
   "execution_count": 1,
   "metadata": {
    "tags": []
   },
   "outputs": [
    {
     "name": "stdout",
     "output_type": "stream",
     "text": [
      "Requirement already satisfied: langchain_aws==0.1.17 in ./.venv/lib/python3.12/site-packages (0.1.17)\n",
      "Requirement already satisfied: pandas==2.2.2 in ./.venv/lib/python3.12/site-packages (2.2.2)\n",
      "Requirement already satisfied: boto3<1.35.0,>=1.34.131 in ./.venv/lib/python3.12/site-packages (from langchain_aws==0.1.17) (1.34.162)\n",
      "Requirement already satisfied: langchain-core<0.3,>=0.2.33 in ./.venv/lib/python3.12/site-packages (from langchain_aws==0.1.17) (0.2.38)\n",
      "Requirement already satisfied: numpy<2.0.0,>=1.26.0 in ./.venv/lib/python3.12/site-packages (from langchain_aws==0.1.17) (1.26.4)\n",
      "Requirement already satisfied: python-dateutil>=2.8.2 in ./.venv/lib/python3.12/site-packages (from pandas==2.2.2) (2.9.0.post0)\n",
      "Requirement already satisfied: pytz>=2020.1 in ./.venv/lib/python3.12/site-packages (from pandas==2.2.2) (2024.1)\n",
      "Requirement already satisfied: tzdata>=2022.7 in ./.venv/lib/python3.12/site-packages (from pandas==2.2.2) (2024.1)\n",
      "Requirement already satisfied: botocore<1.35.0,>=1.34.162 in ./.venv/lib/python3.12/site-packages (from boto3<1.35.0,>=1.34.131->langchain_aws==0.1.17) (1.34.162)\n",
      "Requirement already satisfied: jmespath<2.0.0,>=0.7.1 in ./.venv/lib/python3.12/site-packages (from boto3<1.35.0,>=1.34.131->langchain_aws==0.1.17) (1.0.1)\n",
      "Requirement already satisfied: s3transfer<0.11.0,>=0.10.0 in ./.venv/lib/python3.12/site-packages (from boto3<1.35.0,>=1.34.131->langchain_aws==0.1.17) (0.10.2)\n",
      "Requirement already satisfied: PyYAML>=5.3 in ./.venv/lib/python3.12/site-packages (from langchain-core<0.3,>=0.2.33->langchain_aws==0.1.17) (6.0.2)\n",
      "Requirement already satisfied: jsonpatch<2.0,>=1.33 in ./.venv/lib/python3.12/site-packages (from langchain-core<0.3,>=0.2.33->langchain_aws==0.1.17) (1.33)\n",
      "Requirement already satisfied: langsmith<0.2.0,>=0.1.75 in ./.venv/lib/python3.12/site-packages (from langchain-core<0.3,>=0.2.33->langchain_aws==0.1.17) (0.1.117)\n",
      "Requirement already satisfied: packaging<25,>=23.2 in ./.venv/lib/python3.12/site-packages (from langchain-core<0.3,>=0.2.33->langchain_aws==0.1.17) (24.1)\n",
      "Requirement already satisfied: pydantic<3.0.0,>=2.7.4 in ./.venv/lib/python3.12/site-packages (from langchain-core<0.3,>=0.2.33->langchain_aws==0.1.17) (2.9.1)\n",
      "Requirement already satisfied: tenacity!=8.4.0,<9.0.0,>=8.1.0 in ./.venv/lib/python3.12/site-packages (from langchain-core<0.3,>=0.2.33->langchain_aws==0.1.17) (8.5.0)\n",
      "Requirement already satisfied: typing-extensions>=4.7 in ./.venv/lib/python3.12/site-packages (from langchain-core<0.3,>=0.2.33->langchain_aws==0.1.17) (4.12.2)\n",
      "Requirement already satisfied: six>=1.5 in ./.venv/lib/python3.12/site-packages (from python-dateutil>=2.8.2->pandas==2.2.2) (1.16.0)\n",
      "Requirement already satisfied: urllib3!=2.2.0,<3,>=1.25.4 in ./.venv/lib/python3.12/site-packages (from botocore<1.35.0,>=1.34.162->boto3<1.35.0,>=1.34.131->langchain_aws==0.1.17) (2.2.2)\n",
      "Requirement already satisfied: jsonpointer>=1.9 in ./.venv/lib/python3.12/site-packages (from jsonpatch<2.0,>=1.33->langchain-core<0.3,>=0.2.33->langchain_aws==0.1.17) (3.0.0)\n",
      "Requirement already satisfied: httpx<1,>=0.23.0 in ./.venv/lib/python3.12/site-packages (from langsmith<0.2.0,>=0.1.75->langchain-core<0.3,>=0.2.33->langchain_aws==0.1.17) (0.27.2)\n",
      "Requirement already satisfied: orjson<4.0.0,>=3.9.14 in ./.venv/lib/python3.12/site-packages (from langsmith<0.2.0,>=0.1.75->langchain-core<0.3,>=0.2.33->langchain_aws==0.1.17) (3.10.7)\n",
      "Requirement already satisfied: requests<3,>=2 in ./.venv/lib/python3.12/site-packages (from langsmith<0.2.0,>=0.1.75->langchain-core<0.3,>=0.2.33->langchain_aws==0.1.17) (2.32.3)\n",
      "Requirement already satisfied: annotated-types>=0.6.0 in ./.venv/lib/python3.12/site-packages (from pydantic<3.0.0,>=2.7.4->langchain-core<0.3,>=0.2.33->langchain_aws==0.1.17) (0.7.0)\n",
      "Requirement already satisfied: pydantic-core==2.23.3 in ./.venv/lib/python3.12/site-packages (from pydantic<3.0.0,>=2.7.4->langchain-core<0.3,>=0.2.33->langchain_aws==0.1.17) (2.23.3)\n",
      "Requirement already satisfied: anyio in ./.venv/lib/python3.12/site-packages (from httpx<1,>=0.23.0->langsmith<0.2.0,>=0.1.75->langchain-core<0.3,>=0.2.33->langchain_aws==0.1.17) (4.4.0)\n",
      "Requirement already satisfied: certifi in ./.venv/lib/python3.12/site-packages (from httpx<1,>=0.23.0->langsmith<0.2.0,>=0.1.75->langchain-core<0.3,>=0.2.33->langchain_aws==0.1.17) (2024.8.30)\n",
      "Requirement already satisfied: httpcore==1.* in ./.venv/lib/python3.12/site-packages (from httpx<1,>=0.23.0->langsmith<0.2.0,>=0.1.75->langchain-core<0.3,>=0.2.33->langchain_aws==0.1.17) (1.0.5)\n",
      "Requirement already satisfied: idna in ./.venv/lib/python3.12/site-packages (from httpx<1,>=0.23.0->langsmith<0.2.0,>=0.1.75->langchain-core<0.3,>=0.2.33->langchain_aws==0.1.17) (3.8)\n",
      "Requirement already satisfied: sniffio in ./.venv/lib/python3.12/site-packages (from httpx<1,>=0.23.0->langsmith<0.2.0,>=0.1.75->langchain-core<0.3,>=0.2.33->langchain_aws==0.1.17) (1.3.1)\n",
      "Requirement already satisfied: h11<0.15,>=0.13 in ./.venv/lib/python3.12/site-packages (from httpcore==1.*->httpx<1,>=0.23.0->langsmith<0.2.0,>=0.1.75->langchain-core<0.3,>=0.2.33->langchain_aws==0.1.17) (0.14.0)\n",
      "Requirement already satisfied: charset-normalizer<4,>=2 in ./.venv/lib/python3.12/site-packages (from requests<3,>=2->langsmith<0.2.0,>=0.1.75->langchain-core<0.3,>=0.2.33->langchain_aws==0.1.17) (3.3.2)\n",
      "\n",
      "\u001b[1m[\u001b[0m\u001b[34;49mnotice\u001b[0m\u001b[1;39;49m]\u001b[0m\u001b[39;49m A new release of pip is available: \u001b[0m\u001b[31;49m24.2\u001b[0m\u001b[39;49m -> \u001b[0m\u001b[32;49m24.3.1\u001b[0m\n",
      "\u001b[1m[\u001b[0m\u001b[34;49mnotice\u001b[0m\u001b[1;39;49m]\u001b[0m\u001b[39;49m To update, run: \u001b[0m\u001b[32;49mpip install --upgrade pip\u001b[0m\n"
     ]
    }
   ],
   "source": [
    "!pip install langchain_aws==0.1.17 pandas==2.2.2"
   ]
  },
  {
   "cell_type": "code",
   "execution_count": 1,
   "metadata": {},
   "outputs": [],
   "source": [
    "import json\n",
    "import copy\n",
    "import logging\n",
    "from operator import itemgetter\n",
    "from pprint import pprint\n",
    "from typing import Any, Dict, List\n",
    "\n",
    "import boto3\n",
    "from langchain_aws import AmazonKnowledgeBasesRetriever\n",
    "from langchain_core.documents import Document\n",
    "from langchain_core.runnables import Runnable, RunnableConfig, RunnableLambda\n",
    "from langchain_core.prompts import PromptTemplate\n",
    "import pandas as pd\n",
    "\n",
    "logging.basicConfig(level=logging.INFO, format='%(asctime)s - %(levelname)s - %(message)s')\n",
    "logger = logging.getLogger(__name__)"
   ]
  },
  {
   "cell_type": "markdown",
   "metadata": {},
   "source": [
    "# Environment Variables"
   ]
  },
  {
   "cell_type": "code",
   "execution_count": 52,
   "metadata": {
    "tags": []
   },
   "outputs": [],
   "source": [
    "# must set the first two or the last 3\n",
    "# %env AWS_PROFILE=\n",
    "# %env AWS_DEFAULT_REGION=\n",
    "\n",
    "\n",
    "# %env AWS_ACCESS_KEY_ID=\n",
    "# %env AWS_SECRET_ACCESS_KEY=\n",
    "# %env AWS_SESSION_TOKEN="
   ]
  },
  {
   "cell_type": "code",
   "execution_count": null,
   "metadata": {
    "tags": []
   },
   "outputs": [],
   "source": [
    "# Test AWS connection\n",
    "# Create a session using your AWS credentials\n",
    "session = boto3.Session()\n",
    "\n",
    "# Create an STS client\n",
    "sts_client = session.client('sts')\n",
    "\n",
    "# Get the caller identity\n",
    "response = sts_client.get_caller_identity()\n",
    "\n",
    "# Print the response\n",
    "pprint(response)\n",
    "\n",
    "knowledge_base_id = 'XXXXXXXX'\n",
    "\n",
    "retrieval_config = {\n",
    "    \"vectorSearchConfiguration\": {\n",
    "        \"numberOfResults\": 4,\n",
    "        \"overrideSearchType\": \"HYBRID\"\n",
    "    }\n",
    "}"
   ]
  },
  {
   "cell_type": "code",
   "execution_count": null,
   "metadata": {},
   "outputs": [],
   "source": [
    "# Test bedrock knowledge bases connection\n",
    "client = boto3.client('bedrock-agent-runtime')\n",
    "# print(client.list_agent_knowledge_bases())\n",
    "\n",
    "response = client.retrieve(\n",
    "    knowledgeBaseId=knowledge_base_id,\n",
    "    retrievalConfiguration=retrieval_config,\n",
    "    retrievalQuery={\"text\": \"Hello world\"}\n",
    ")\n",
    "\n",
    "pprint(response)"
   ]
  },
  {
   "cell_type": "markdown",
   "metadata": {},
   "source": [
    "# Other Components of Chain"
   ]
  },
  {
   "cell_type": "code",
   "execution_count": 43,
   "metadata": {
    "tags": []
   },
   "outputs": [],
   "source": [
    "def create_query_for_retrieval() -> PromptTemplate:\n",
    "        \"\"\"\n",
    "        Formats the user's history and questionnaire according to what the retriever expects.\n",
    "\n",
    "        Args:\n",
    "            inputs (dict): The user's history, questionnaire answers, and (if applicable) messages.\n",
    "\n",
    "        Returns:\n",
    "            str: The formatted query string.\n",
    "        \"\"\"\n",
    "        def create_base_prompt(inputs):\n",
    "            logger.info(\"Creating base prompt\")\n",
    "            user_data = inputs[\"user_data\"]\n",
    "            return json.dumps(user_data)\n",
    "        query = RunnableLambda(create_base_prompt)\n",
    "       \n",
    "        return query"
   ]
  },
  {
   "cell_type": "markdown",
   "metadata": {},
   "source": [
    "# Dynamic Filter"
   ]
  },
  {
   "cell_type": "markdown",
   "metadata": {},
   "source": [
    "## Dynamically Replace Values"
   ]
  },
  {
   "cell_type": "code",
   "execution_count": 44,
   "metadata": {
    "tags": []
   },
   "outputs": [],
   "source": [
    "def setup_retrieval_config(inputs):\n",
    "\n",
    "    # need to make a copy because the filter is updated dynamically based on the user_data, so need to start from the original every time\n",
    "    local_retrieval_config = copy.deepcopy(retrieval_config)\n",
    "\n",
    "    updated_vector_search_config = replace_values(local_retrieval_config[\"vectorSearchConfiguration\"], inputs[\"user_data\"])\n",
    "    local_retrieval_config[\"vectorSearchConfiguration\"] = updated_vector_search_config\n",
    "    print(local_retrieval_config)\n",
    "\n",
    "    return local_retrieval_config\n",
    "\n",
    "def replace_values(vector_search_config: Dict, user_data: Dict):\n",
    "    # replace value fields in the filter with the correct value according to the user_data\n",
    "    # uses breadth first search to find all of the value fields\n",
    "\n",
    "    # filter is not a required key, if you do not want any filters get rid of the key\n",
    "    if \"filter\" in vector_search_config and not vector_search_config[\"filter\"]:\n",
    "        del vector_search_config[\"filter\"]\n",
    "\n",
    "    # recursively traverse from the root\n",
    "    elif 'filter' in vector_search_config:\n",
    "        vector_search_config['filter'] = replace_values(vector_search_config['filter'], user_data)\n",
    "\n",
    "    # at a node that is not the root\n",
    "    else:\n",
    "        for key, value in vector_search_config.items():\n",
    "            if isinstance(value, dict):\n",
    "\n",
    "                # at a leaf e.g. {\"key\": \"age\", \"value\": \"\"}}\n",
    "                if 'key' in value and 'value' in value:\n",
    "\n",
    "                    # only overwrite value['value'] that are not unknown\n",
    "                    if value['key'] in user_data and not (value[\"value\"] == \"unknown\" or value[\"value\"] == [\"unknown\"]):\n",
    "\n",
    "                        # primitive data type\n",
    "                        if type(value[\"value\"]) in [str, int, float, bool]:\n",
    "                            value['value'] = user_data[value['key']]\n",
    "\n",
    "                        # list data type\n",
    "                        elif isinstance(value[\"value\"], list):\n",
    "                            value['value'] = [user_data[value['key']]]\n",
    "                        else:\n",
    "                            raise ValueError(f\"Unsupported value['value'] type {type(value['value'])}\")\n",
    "                else:\n",
    "                    vector_search_config[key] = replace_values(value, user_data)\n",
    "\n",
    "            # recurse on each item in the list\n",
    "            elif isinstance(value, list):\n",
    "                vector_search_config[key] = [replace_values(item, user_data) for item in value]\n",
    "            else:\n",
    "                raise ValueError(f\"Unsupported value type {type(value)}\")\n",
    "\n",
    "    return vector_search_config"
   ]
  },
  {
   "cell_type": "markdown",
   "metadata": {
    "tags": []
   },
   "source": [
    "## Option 1: Instantiate Retriever Again with Each Invoke"
   ]
  },
  {
   "cell_type": "code",
   "execution_count": 45,
   "metadata": {},
   "outputs": [],
   "source": [
    "from langchain_core.runnables import RunnableParallel\n",
    "\n",
    "def create_retrieval_chain() -> Runnable:\n",
    "        \"\"\"\n",
    "        Creates a retrieval chain for the retriever.\n",
    "\n",
    "        Returns:\n",
    "            Runnable: The retrieval chain.\n",
    "        \"\"\"\n",
    "\n",
    "        query = create_query_for_retrieval()\n",
    "\n",
    "\n",
    "        def create_retriever(inputs):\n",
    "            # This wrapper is necessary because if you return a callable object LangChain will automatically call it immediately, which is not the desired behavior\n",
    "            # instead we want to call the retriever on the next step of the chain\n",
    "            retriever_wrapper = {\"retriever\": AmazonKnowledgeBasesRetriever(knowledge_base_id=knowledge_base_id, retrieval_config=inputs[\"retrieval_config\"])}\n",
    "            print(inputs[\"retrieval_config\"])\n",
    "            return retriever_wrapper\n",
    "\n",
    "        # retrieval chain has three steps: (1) create the filter based off of the user data, (2) create the retriever, and (3) invoke the retriever\n",
    "        retrieval_chain = (\n",
    "            RunnableParallel({\n",
    "                \"user_data\" : itemgetter(\"user_data\"),\n",
    "                \"retrieval_config\" : lambda inputs: setup_retrieval_config(inputs)\n",
    "            }) |\n",
    "            {\n",
    "                \"query\" : query,\n",
    "                \"retriever\" : lambda inputs: create_retriever(inputs)\n",
    "            } |\n",
    "            RunnableLambda(lambda inputs: inputs[\"retriever\"][\"retriever\"].invoke(inputs[\"query\"]))\n",
    "        )\n",
    "        return retrieval_chain\n",
    "\n",
    "    \n",
    "\n",
    "retrieval_chain_1 = create_retrieval_chain()"
   ]
  },
  {
   "cell_type": "markdown",
   "metadata": {
    "tags": []
   },
   "source": [
    "## Option 2: Instantiate Retriever Once"
   ]
  },
  {
   "cell_type": "code",
   "execution_count": 46,
   "metadata": {
    "tags": []
   },
   "outputs": [],
   "source": [
    "retriever = AmazonKnowledgeBasesRetriever(\n",
    "    knowledge_base_id=knowledge_base_id,\n",
    "    retrieval_config=retrieval_config\n",
    ")\n",
    "\n",
    "def create_retrieval_chain() -> Runnable:\n",
    "        \"\"\"\n",
    "        Creates a retrieval chain for the retriever.\n",
    "\n",
    "        Returns:\n",
    "            Runnable: The retrieval chain.\n",
    "        \"\"\"\n",
    "\n",
    "        query = create_query_for_retrieval()\n",
    "        \n",
    "        def retrieve_and_format(inputs):\n",
    "            results = retriever.client.retrieve(\n",
    "                retrievalQuery={\"text\": inputs[\"query\"]}, \n",
    "                knowledgeBaseId=knowledge_base_id, \n",
    "                retrievalConfiguration=inputs[\"retrieval_config\"]\n",
    "            )\n",
    "        \n",
    "            documents = []\n",
    "            for result in results[\"retrievalResults\"]:\n",
    "                metadata = {\n",
    "                    \"location\": result[\"location\"],\n",
    "                    \"source_metadata\": result[\"metadata\"],\n",
    "                    \"score\": result[\"score\"],\n",
    "                }\n",
    "\n",
    "                document = Document(\n",
    "                    page_content=result[\"content\"][\"text\"],\n",
    "                    metadata=metadata\n",
    "                )\n",
    "                documents.append(document)\n",
    "            \n",
    "            return documents\n",
    "\n",
    "        retrieval_chain = (\n",
    "            {\n",
    "                \"query\" : query,\n",
    "                \"retrieval_config\" : lambda inputs: setup_retrieval_config(inputs)\n",
    "            } |\n",
    "            RunnableLambda(lambda inputs: retrieve_and_format(inputs))\n",
    "            # RunnableLambda(lambda inputs: retriever.client.retrieve(retrievalQuery={\"text\": inputs[\"query\"]}, knowledgeBaseId=knowledge_base_id, retrievalConfiguration=inputs[\"retrieval_config\"]))\n",
    "        )\n",
    "        return retrieval_chain\n",
    "\n",
    "retrieval_chain_2 = create_retrieval_chain()"
   ]
  },
  {
   "cell_type": "markdown",
   "metadata": {},
   "source": [
    "# Test Code"
   ]
  },
  {
   "cell_type": "markdown",
   "metadata": {},
   "source": [
    "## Download User Data"
   ]
  },
  {
   "cell_type": "code",
   "execution_count": 47,
   "metadata": {
    "tags": []
   },
   "outputs": [
    {
     "name": "stdout",
     "output_type": "stream",
     "text": [
      "[\n",
      "  {\n",
      "    \"trip_id\": 1,\n",
      "    \"desired_destination\": \"Amsterdam, Netherlands\",\n",
      "    \"stay_duration\": 7,\n",
      "    \"age\": 35,\n",
      "    \"gender\": \"male\",\n",
      "    \"companion\": \"solo\",\n",
      "    \"travelling_with_children\": \"no\",\n",
      "    \"travelling_with_pets\": \"no\"\n",
      "  },\n",
      "  {\n",
      "    \"trip_id\": 2,\n",
      "    \"desired_destination\": \"Paris, France\",\n",
      "    \"stay_duration\": 5,\n",
      "    \"age\": 28,\n",
      "    \"gender\": \"female\",\n",
      "    \"companion\": \"solo\",\n",
      "    \"travelling_with_children\": \"no\",\n",
      "    \"travelling_with_pets\": \"yes\"\n",
      "  }\n",
      "]\n"
     ]
    }
   ],
   "source": [
    "with open(\"data/user_data.json\", \"r\") as file:\n",
    "    user_data = json.load(file)\n",
    "\n",
    "print(json.dumps(user_data[:2], indent=2))"
   ]
  },
  {
   "cell_type": "markdown",
   "metadata": {},
   "source": [
    "## Run Filters"
   ]
  },
  {
   "cell_type": "code",
   "execution_count": 48,
   "metadata": {
    "tags": []
   },
   "outputs": [],
   "source": [
    "filters_to_test: List = [\n",
    "    {\n",
    "        \"andAll\": [\n",
    "            {\n",
    "                \"equals\": {\n",
    "                    \"key\": \"desired_destination\",\n",
    "                    \"value\": \"<UNKNOWN>\"  # This will be overwritten with appropriate values at runtime\n",
    "                }\n",
    "            },\n",
    "            {\n",
    "                \"equals\": {\n",
    "                    \"key\": \"travelling_with_children\",\n",
    "                    \"value\": \"<UNKNOWN>\"  # This will be overwritten with appropriate values at runtime\n",
    "                }\n",
    "            }\n",
    "        ]\n",
    "    },\n",
    "    None\n",
    "]\n"
   ]
  },
  {
   "cell_type": "code",
   "execution_count": 49,
   "metadata": {
    "tags": []
   },
   "outputs": [
    {
     "name": "stderr",
     "output_type": "stream",
     "text": [
      "2024-11-07 15:40:46,911 - INFO - 0\n",
      "2024-11-07 15:40:46,926 - INFO - Creating base prompt\n"
     ]
    },
    {
     "name": "stdout",
     "output_type": "stream",
     "text": [
      "{'vectorSearchConfiguration': {'numberOfResults': 4, 'overrideSearchType': 'HYBRID', 'filter': {'andAll': [{'equals': {'key': 'desired_destination', 'value': 'Amsterdam, Netherlands'}}, {'equals': {'key': 'travelling_with_children', 'value': 'no'}}]}}}\n",
      "{'vectorSearchConfiguration': {'numberOfResults': 4, 'overrideSearchType': 'HYBRID', 'filter': {'andAll': [{'equals': {'key': 'desired_destination', 'value': 'Amsterdam, Netherlands'}}, {'equals': {'key': 'travelling_with_children', 'value': 'no'}}]}}}\n"
     ]
    },
    {
     "name": "stderr",
     "output_type": "stream",
     "text": [
      "2024-11-07 15:40:47,692 - INFO - Creating base prompt\n"
     ]
    },
    {
     "name": "stdout",
     "output_type": "stream",
     "text": [
      "{'vectorSearchConfiguration': {'numberOfResults': 4, 'overrideSearchType': 'HYBRID', 'filter': {'andAll': [{'equals': {'key': 'desired_destination', 'value': 'Paris, France'}}, {'equals': {'key': 'travelling_with_children', 'value': 'no'}}]}}}\n",
      "{'vectorSearchConfiguration': {'numberOfResults': 4, 'overrideSearchType': 'HYBRID', 'filter': {'andAll': [{'equals': {'key': 'desired_destination', 'value': 'Paris, France'}}, {'equals': {'key': 'travelling_with_children', 'value': 'no'}}]}}}\n"
     ]
    },
    {
     "name": "stderr",
     "output_type": "stream",
     "text": [
      "2024-11-07 15:40:48,676 - INFO - Creating base prompt\n"
     ]
    },
    {
     "name": "stdout",
     "output_type": "stream",
     "text": [
      "{'vectorSearchConfiguration': {'numberOfResults': 4, 'overrideSearchType': 'HYBRID', 'filter': {'andAll': [{'equals': {'key': 'desired_destination', 'value': 'Prague, Czech Republic'}}, {'equals': {'key': 'travelling_with_children', 'value': 'no'}}]}}}\n",
      "{'vectorSearchConfiguration': {'numberOfResults': 4, 'overrideSearchType': 'HYBRID', 'filter': {'andAll': [{'equals': {'key': 'desired_destination', 'value': 'Prague, Czech Republic'}}, {'equals': {'key': 'travelling_with_children', 'value': 'no'}}]}}}\n"
     ]
    },
    {
     "name": "stderr",
     "output_type": "stream",
     "text": [
      "2024-11-07 15:40:49,394 - INFO - Creating base prompt\n"
     ]
    },
    {
     "name": "stdout",
     "output_type": "stream",
     "text": [
      "{'vectorSearchConfiguration': {'numberOfResults': 4, 'overrideSearchType': 'HYBRID', 'filter': {'andAll': [{'equals': {'key': 'desired_destination', 'value': 'Vienna, Austria'}}, {'equals': {'key': 'travelling_with_children', 'value': 'no'}}]}}}\n",
      "{'vectorSearchConfiguration': {'numberOfResults': 4, 'overrideSearchType': 'HYBRID', 'filter': {'andAll': [{'equals': {'key': 'desired_destination', 'value': 'Vienna, Austria'}}, {'equals': {'key': 'travelling_with_children', 'value': 'no'}}]}}}\n"
     ]
    },
    {
     "name": "stderr",
     "output_type": "stream",
     "text": [
      "2024-11-07 15:40:50,134 - INFO - Creating base prompt\n"
     ]
    },
    {
     "name": "stdout",
     "output_type": "stream",
     "text": [
      "{'vectorSearchConfiguration': {'numberOfResults': 4, 'overrideSearchType': 'HYBRID', 'filter': {'andAll': [{'equals': {'key': 'desired_destination', 'value': 'Tokyo, Japan'}}, {'equals': {'key': 'travelling_with_children', 'value': 'yes'}}]}}}\n",
      "{'vectorSearchConfiguration': {'numberOfResults': 4, 'overrideSearchType': 'HYBRID', 'filter': {'andAll': [{'equals': {'key': 'desired_destination', 'value': 'Tokyo, Japan'}}, {'equals': {'key': 'travelling_with_children', 'value': 'yes'}}]}}}\n"
     ]
    },
    {
     "name": "stderr",
     "output_type": "stream",
     "text": [
      "2024-11-07 15:40:50,869 - INFO - Creating base prompt\n"
     ]
    },
    {
     "name": "stdout",
     "output_type": "stream",
     "text": [
      "{'vectorSearchConfiguration': {'numberOfResults': 4, 'overrideSearchType': 'HYBRID', 'filter': {'andAll': [{'equals': {'key': 'desired_destination', 'value': 'Buenos Aires, Argentina'}}, {'equals': {'key': 'travelling_with_children', 'value': 'no'}}]}}}\n",
      "{'vectorSearchConfiguration': {'numberOfResults': 4, 'overrideSearchType': 'HYBRID', 'filter': {'andAll': [{'equals': {'key': 'desired_destination', 'value': 'Buenos Aires, Argentina'}}, {'equals': {'key': 'travelling_with_children', 'value': 'no'}}]}}}\n"
     ]
    },
    {
     "name": "stderr",
     "output_type": "stream",
     "text": [
      "2024-11-07 15:40:51,625 - INFO - Creating base prompt\n"
     ]
    },
    {
     "name": "stdout",
     "output_type": "stream",
     "text": [
      "{'vectorSearchConfiguration': {'numberOfResults': 4, 'overrideSearchType': 'HYBRID', 'filter': {'andAll': [{'equals': {'key': 'desired_destination', 'value': 'Lisbon, Portugal'}}, {'equals': {'key': 'travelling_with_children', 'value': 'yes'}}]}}}\n",
      "{'vectorSearchConfiguration': {'numberOfResults': 4, 'overrideSearchType': 'HYBRID', 'filter': {'andAll': [{'equals': {'key': 'desired_destination', 'value': 'Lisbon, Portugal'}}, {'equals': {'key': 'travelling_with_children', 'value': 'yes'}}]}}}\n"
     ]
    },
    {
     "name": "stderr",
     "output_type": "stream",
     "text": [
      "2024-11-07 15:40:52,359 - INFO - Creating base prompt\n"
     ]
    },
    {
     "name": "stdout",
     "output_type": "stream",
     "text": [
      "{'vectorSearchConfiguration': {'numberOfResults': 4, 'overrideSearchType': 'HYBRID', 'filter': {'andAll': [{'equals': {'key': 'desired_destination', 'value': 'Istanbul, Turkey'}}, {'equals': {'key': 'travelling_with_children', 'value': 'no'}}]}}}\n",
      "{'vectorSearchConfiguration': {'numberOfResults': 4, 'overrideSearchType': 'HYBRID', 'filter': {'andAll': [{'equals': {'key': 'desired_destination', 'value': 'Istanbul, Turkey'}}, {'equals': {'key': 'travelling_with_children', 'value': 'no'}}]}}}\n"
     ]
    },
    {
     "name": "stderr",
     "output_type": "stream",
     "text": [
      "2024-11-07 15:40:53,115 - INFO - Creating base prompt\n"
     ]
    },
    {
     "name": "stdout",
     "output_type": "stream",
     "text": [
      "{'vectorSearchConfiguration': {'numberOfResults': 4, 'overrideSearchType': 'HYBRID', 'filter': {'andAll': [{'equals': {'key': 'desired_destination', 'value': 'Barcelona, Spain'}}, {'equals': {'key': 'travelling_with_children', 'value': 'no'}}]}}}\n",
      "{'vectorSearchConfiguration': {'numberOfResults': 4, 'overrideSearchType': 'HYBRID', 'filter': {'andAll': [{'equals': {'key': 'desired_destination', 'value': 'Barcelona, Spain'}}, {'equals': {'key': 'travelling_with_children', 'value': 'no'}}]}}}\n"
     ]
    },
    {
     "name": "stderr",
     "output_type": "stream",
     "text": [
      "2024-11-07 15:40:53,848 - INFO - Creating base prompt\n"
     ]
    },
    {
     "name": "stdout",
     "output_type": "stream",
     "text": [
      "{'vectorSearchConfiguration': {'numberOfResults': 4, 'overrideSearchType': 'HYBRID', 'filter': {'andAll': [{'equals': {'key': 'desired_destination', 'value': 'Rome, Italy'}}, {'equals': {'key': 'travelling_with_children', 'value': 'yes'}}]}}}\n",
      "{'vectorSearchConfiguration': {'numberOfResults': 4, 'overrideSearchType': 'HYBRID', 'filter': {'andAll': [{'equals': {'key': 'desired_destination', 'value': 'Rome, Italy'}}, {'equals': {'key': 'travelling_with_children', 'value': 'yes'}}]}}}\n"
     ]
    },
    {
     "name": "stderr",
     "output_type": "stream",
     "text": [
      "2024-11-07 15:40:54,600 - INFO - Creating base prompt\n"
     ]
    },
    {
     "name": "stdout",
     "output_type": "stream",
     "text": [
      "{'vectorSearchConfiguration': {'numberOfResults': 4, 'overrideSearchType': 'HYBRID'}}\n",
      "{'vectorSearchConfiguration': {'numberOfResults': 4, 'overrideSearchType': 'HYBRID'}}\n"
     ]
    },
    {
     "name": "stderr",
     "output_type": "stream",
     "text": [
      "2024-11-07 15:40:55,336 - INFO - Creating base prompt\n"
     ]
    },
    {
     "name": "stdout",
     "output_type": "stream",
     "text": [
      "{'vectorSearchConfiguration': {'numberOfResults': 4, 'overrideSearchType': 'HYBRID'}}\n",
      "{'vectorSearchConfiguration': {'numberOfResults': 4, 'overrideSearchType': 'HYBRID'}}\n"
     ]
    },
    {
     "name": "stderr",
     "output_type": "stream",
     "text": [
      "2024-11-07 15:40:56,097 - INFO - Creating base prompt\n"
     ]
    },
    {
     "name": "stdout",
     "output_type": "stream",
     "text": [
      "{'vectorSearchConfiguration': {'numberOfResults': 4, 'overrideSearchType': 'HYBRID'}}\n",
      "{'vectorSearchConfiguration': {'numberOfResults': 4, 'overrideSearchType': 'HYBRID'}}\n"
     ]
    },
    {
     "name": "stderr",
     "output_type": "stream",
     "text": [
      "2024-11-07 15:40:56,807 - INFO - Creating base prompt\n"
     ]
    },
    {
     "name": "stdout",
     "output_type": "stream",
     "text": [
      "{'vectorSearchConfiguration': {'numberOfResults': 4, 'overrideSearchType': 'HYBRID'}}\n",
      "{'vectorSearchConfiguration': {'numberOfResults': 4, 'overrideSearchType': 'HYBRID'}}\n"
     ]
    },
    {
     "name": "stderr",
     "output_type": "stream",
     "text": [
      "2024-11-07 15:40:57,555 - INFO - Creating base prompt\n"
     ]
    },
    {
     "name": "stdout",
     "output_type": "stream",
     "text": [
      "{'vectorSearchConfiguration': {'numberOfResults': 4, 'overrideSearchType': 'HYBRID'}}\n",
      "{'vectorSearchConfiguration': {'numberOfResults': 4, 'overrideSearchType': 'HYBRID'}}\n"
     ]
    },
    {
     "name": "stderr",
     "output_type": "stream",
     "text": [
      "2024-11-07 15:40:58,294 - INFO - Creating base prompt\n"
     ]
    },
    {
     "name": "stdout",
     "output_type": "stream",
     "text": [
      "{'vectorSearchConfiguration': {'numberOfResults': 4, 'overrideSearchType': 'HYBRID'}}\n",
      "{'vectorSearchConfiguration': {'numberOfResults': 4, 'overrideSearchType': 'HYBRID'}}\n"
     ]
    },
    {
     "name": "stderr",
     "output_type": "stream",
     "text": [
      "2024-11-07 15:40:59,028 - INFO - Creating base prompt\n"
     ]
    },
    {
     "name": "stdout",
     "output_type": "stream",
     "text": [
      "{'vectorSearchConfiguration': {'numberOfResults': 4, 'overrideSearchType': 'HYBRID'}}\n",
      "{'vectorSearchConfiguration': {'numberOfResults': 4, 'overrideSearchType': 'HYBRID'}}\n"
     ]
    },
    {
     "name": "stderr",
     "output_type": "stream",
     "text": [
      "2024-11-07 15:40:59,747 - INFO - Creating base prompt\n"
     ]
    },
    {
     "name": "stdout",
     "output_type": "stream",
     "text": [
      "{'vectorSearchConfiguration': {'numberOfResults': 4, 'overrideSearchType': 'HYBRID'}}\n",
      "{'vectorSearchConfiguration': {'numberOfResults': 4, 'overrideSearchType': 'HYBRID'}}\n"
     ]
    },
    {
     "name": "stderr",
     "output_type": "stream",
     "text": [
      "2024-11-07 15:41:00,462 - INFO - Creating base prompt\n"
     ]
    },
    {
     "name": "stdout",
     "output_type": "stream",
     "text": [
      "{'vectorSearchConfiguration': {'numberOfResults': 4, 'overrideSearchType': 'HYBRID'}}\n",
      "{'vectorSearchConfiguration': {'numberOfResults': 4, 'overrideSearchType': 'HYBRID'}}\n"
     ]
    },
    {
     "name": "stderr",
     "output_type": "stream",
     "text": [
      "2024-11-07 15:41:01,199 - INFO - Creating base prompt\n"
     ]
    },
    {
     "name": "stdout",
     "output_type": "stream",
     "text": [
      "{'vectorSearchConfiguration': {'numberOfResults': 4, 'overrideSearchType': 'HYBRID'}}\n",
      "{'vectorSearchConfiguration': {'numberOfResults': 4, 'overrideSearchType': 'HYBRID'}}\n"
     ]
    },
    {
     "name": "stderr",
     "output_type": "stream",
     "text": [
      "2024-11-07 15:41:01,982 - INFO - 1\n",
      "2024-11-07 15:41:01,989 - INFO - Creating base prompt\n"
     ]
    },
    {
     "name": "stdout",
     "output_type": "stream",
     "text": [
      "{'vectorSearchConfiguration': {'numberOfResults': 4, 'overrideSearchType': 'HYBRID', 'filter': {'andAll': [{'equals': {'key': 'desired_destination', 'value': 'Amsterdam, Netherlands'}}, {'equals': {'key': 'travelling_with_children', 'value': 'no'}}]}}}\n"
     ]
    },
    {
     "name": "stderr",
     "output_type": "stream",
     "text": [
      "2024-11-07 15:41:02,338 - INFO - Creating base prompt\n"
     ]
    },
    {
     "name": "stdout",
     "output_type": "stream",
     "text": [
      "{'vectorSearchConfiguration': {'numberOfResults': 4, 'overrideSearchType': 'HYBRID', 'filter': {'andAll': [{'equals': {'key': 'desired_destination', 'value': 'Paris, France'}}, {'equals': {'key': 'travelling_with_children', 'value': 'no'}}]}}}\n"
     ]
    },
    {
     "name": "stderr",
     "output_type": "stream",
     "text": [
      "2024-11-07 15:41:02,586 - INFO - Creating base prompt\n"
     ]
    },
    {
     "name": "stdout",
     "output_type": "stream",
     "text": [
      "{'vectorSearchConfiguration': {'numberOfResults': 4, 'overrideSearchType': 'HYBRID', 'filter': {'andAll': [{'equals': {'key': 'desired_destination', 'value': 'Prague, Czech Republic'}}, {'equals': {'key': 'travelling_with_children', 'value': 'no'}}]}}}\n"
     ]
    },
    {
     "name": "stderr",
     "output_type": "stream",
     "text": [
      "2024-11-07 15:41:02,789 - INFO - Creating base prompt\n"
     ]
    },
    {
     "name": "stdout",
     "output_type": "stream",
     "text": [
      "{'vectorSearchConfiguration': {'numberOfResults': 4, 'overrideSearchType': 'HYBRID', 'filter': {'andAll': [{'equals': {'key': 'desired_destination', 'value': 'Vienna, Austria'}}, {'equals': {'key': 'travelling_with_children', 'value': 'no'}}]}}}\n"
     ]
    },
    {
     "name": "stderr",
     "output_type": "stream",
     "text": [
      "2024-11-07 15:41:03,030 - INFO - Creating base prompt\n"
     ]
    },
    {
     "name": "stdout",
     "output_type": "stream",
     "text": [
      "{'vectorSearchConfiguration': {'numberOfResults': 4, 'overrideSearchType': 'HYBRID', 'filter': {'andAll': [{'equals': {'key': 'desired_destination', 'value': 'Tokyo, Japan'}}, {'equals': {'key': 'travelling_with_children', 'value': 'yes'}}]}}}\n"
     ]
    },
    {
     "name": "stderr",
     "output_type": "stream",
     "text": [
      "2024-11-07 15:41:03,280 - INFO - Creating base prompt\n"
     ]
    },
    {
     "name": "stdout",
     "output_type": "stream",
     "text": [
      "{'vectorSearchConfiguration': {'numberOfResults': 4, 'overrideSearchType': 'HYBRID', 'filter': {'andAll': [{'equals': {'key': 'desired_destination', 'value': 'Buenos Aires, Argentina'}}, {'equals': {'key': 'travelling_with_children', 'value': 'no'}}]}}}\n"
     ]
    },
    {
     "name": "stderr",
     "output_type": "stream",
     "text": [
      "2024-11-07 15:41:03,537 - INFO - Creating base prompt\n"
     ]
    },
    {
     "name": "stdout",
     "output_type": "stream",
     "text": [
      "{'vectorSearchConfiguration': {'numberOfResults': 4, 'overrideSearchType': 'HYBRID', 'filter': {'andAll': [{'equals': {'key': 'desired_destination', 'value': 'Lisbon, Portugal'}}, {'equals': {'key': 'travelling_with_children', 'value': 'yes'}}]}}}\n"
     ]
    },
    {
     "name": "stderr",
     "output_type": "stream",
     "text": [
      "2024-11-07 15:41:03,770 - INFO - Creating base prompt\n"
     ]
    },
    {
     "name": "stdout",
     "output_type": "stream",
     "text": [
      "{'vectorSearchConfiguration': {'numberOfResults': 4, 'overrideSearchType': 'HYBRID', 'filter': {'andAll': [{'equals': {'key': 'desired_destination', 'value': 'Istanbul, Turkey'}}, {'equals': {'key': 'travelling_with_children', 'value': 'no'}}]}}}\n"
     ]
    },
    {
     "name": "stderr",
     "output_type": "stream",
     "text": [
      "2024-11-07 15:41:04,059 - INFO - Creating base prompt\n"
     ]
    },
    {
     "name": "stdout",
     "output_type": "stream",
     "text": [
      "{'vectorSearchConfiguration': {'numberOfResults': 4, 'overrideSearchType': 'HYBRID', 'filter': {'andAll': [{'equals': {'key': 'desired_destination', 'value': 'Barcelona, Spain'}}, {'equals': {'key': 'travelling_with_children', 'value': 'no'}}]}}}\n"
     ]
    },
    {
     "name": "stderr",
     "output_type": "stream",
     "text": [
      "2024-11-07 15:41:04,310 - INFO - Creating base prompt\n"
     ]
    },
    {
     "name": "stdout",
     "output_type": "stream",
     "text": [
      "{'vectorSearchConfiguration': {'numberOfResults': 4, 'overrideSearchType': 'HYBRID', 'filter': {'andAll': [{'equals': {'key': 'desired_destination', 'value': 'Rome, Italy'}}, {'equals': {'key': 'travelling_with_children', 'value': 'yes'}}]}}}\n"
     ]
    },
    {
     "name": "stderr",
     "output_type": "stream",
     "text": [
      "2024-11-07 15:41:04,552 - INFO - Creating base prompt\n"
     ]
    },
    {
     "name": "stdout",
     "output_type": "stream",
     "text": [
      "{'vectorSearchConfiguration': {'numberOfResults': 4, 'overrideSearchType': 'HYBRID'}}\n"
     ]
    },
    {
     "name": "stderr",
     "output_type": "stream",
     "text": [
      "2024-11-07 15:41:04,816 - INFO - Creating base prompt\n"
     ]
    },
    {
     "name": "stdout",
     "output_type": "stream",
     "text": [
      "{'vectorSearchConfiguration': {'numberOfResults': 4, 'overrideSearchType': 'HYBRID'}}\n"
     ]
    },
    {
     "name": "stderr",
     "output_type": "stream",
     "text": [
      "2024-11-07 15:41:05,102 - INFO - Creating base prompt\n"
     ]
    },
    {
     "name": "stdout",
     "output_type": "stream",
     "text": [
      "{'vectorSearchConfiguration': {'numberOfResults': 4, 'overrideSearchType': 'HYBRID'}}\n"
     ]
    },
    {
     "name": "stderr",
     "output_type": "stream",
     "text": [
      "2024-11-07 15:41:05,357 - INFO - Creating base prompt\n"
     ]
    },
    {
     "name": "stdout",
     "output_type": "stream",
     "text": [
      "{'vectorSearchConfiguration': {'numberOfResults': 4, 'overrideSearchType': 'HYBRID'}}\n"
     ]
    },
    {
     "name": "stderr",
     "output_type": "stream",
     "text": [
      "2024-11-07 15:41:05,584 - INFO - Creating base prompt\n"
     ]
    },
    {
     "name": "stdout",
     "output_type": "stream",
     "text": [
      "{'vectorSearchConfiguration': {'numberOfResults': 4, 'overrideSearchType': 'HYBRID'}}\n"
     ]
    },
    {
     "name": "stderr",
     "output_type": "stream",
     "text": [
      "2024-11-07 15:41:05,831 - INFO - Creating base prompt\n"
     ]
    },
    {
     "name": "stdout",
     "output_type": "stream",
     "text": [
      "{'vectorSearchConfiguration': {'numberOfResults': 4, 'overrideSearchType': 'HYBRID'}}\n"
     ]
    },
    {
     "name": "stderr",
     "output_type": "stream",
     "text": [
      "2024-11-07 15:41:06,080 - INFO - Creating base prompt\n"
     ]
    },
    {
     "name": "stdout",
     "output_type": "stream",
     "text": [
      "{'vectorSearchConfiguration': {'numberOfResults': 4, 'overrideSearchType': 'HYBRID'}}\n"
     ]
    },
    {
     "name": "stderr",
     "output_type": "stream",
     "text": [
      "2024-11-07 15:41:06,322 - INFO - Creating base prompt\n"
     ]
    },
    {
     "name": "stdout",
     "output_type": "stream",
     "text": [
      "{'vectorSearchConfiguration': {'numberOfResults': 4, 'overrideSearchType': 'HYBRID'}}\n"
     ]
    },
    {
     "name": "stderr",
     "output_type": "stream",
     "text": [
      "2024-11-07 15:41:06,565 - INFO - Creating base prompt\n"
     ]
    },
    {
     "name": "stdout",
     "output_type": "stream",
     "text": [
      "{'vectorSearchConfiguration': {'numberOfResults': 4, 'overrideSearchType': 'HYBRID'}}\n"
     ]
    },
    {
     "name": "stderr",
     "output_type": "stream",
     "text": [
      "2024-11-07 15:41:06,832 - INFO - Creating base prompt\n"
     ]
    },
    {
     "name": "stdout",
     "output_type": "stream",
     "text": [
      "{'vectorSearchConfiguration': {'numberOfResults': 4, 'overrideSearchType': 'HYBRID'}}\n"
     ]
    }
   ],
   "source": [
    "retrieval_chains = [retrieval_chain_1, retrieval_chain_2]\n",
    "\n",
    "results = []\n",
    "\n",
    "for retrieval_chain_id, retrieval_chain in enumerate(retrieval_chains):\n",
    "    logger.info(retrieval_chain_id)\n",
    "    # Loop through each filter options\n",
    "    for filter in filters_to_test:\n",
    "        retrieval_config[\"vectorSearchConfiguration\"][\"filter\"] = filter\n",
    "        # Loop through each user data entry\n",
    "        for user_entry in user_data:\n",
    "            inputs = {\n",
    "                    \"user_data\": user_entry,\n",
    "                    \"retrieval_config\": retrieval_config\n",
    "                }\n",
    "\n",
    "            # Run the retrieval chain with the current user entry\n",
    "            try:\n",
    "                result = retrieval_chain.invoke(inputs)\n",
    "                # print(f\"Result for user entry {user_entry['trip_id']}: {result}\")\n",
    "                results.append(({'retrieval_chain_id': retrieval_chain_id, 'filter': bool(filter), 'user': user_entry, 'documents': result}))\n",
    "\n",
    "            except Exception as e:\n",
    "                print(f\"Error during retrieval for user entry {user_entry['trip_id']}: {e}\")\n",
    "\n"
   ]
  },
  {
   "cell_type": "markdown",
   "metadata": {},
   "source": [
    "# Summary of Results"
   ]
  },
  {
   "cell_type": "code",
   "execution_count": 50,
   "metadata": {},
   "outputs": [
    {
     "name": "stdout",
     "output_type": "stream",
     "text": [
      "(112, 6)\n"
     ]
    },
    {
     "data": {
      "text/html": [
       "<div>\n",
       "<style scoped>\n",
       "    .dataframe tbody tr th:only-of-type {\n",
       "        vertical-align: middle;\n",
       "    }\n",
       "\n",
       "    .dataframe tbody tr th {\n",
       "        vertical-align: top;\n",
       "    }\n",
       "\n",
       "    .dataframe thead th {\n",
       "        text-align: right;\n",
       "    }\n",
       "</style>\n",
       "<table border=\"1\" class=\"dataframe\">\n",
       "  <thead>\n",
       "    <tr style=\"text-align: right;\">\n",
       "      <th></th>\n",
       "      <th>Retrieval Approach</th>\n",
       "      <th>Filter</th>\n",
       "      <th>Trip ID</th>\n",
       "      <th>Destination</th>\n",
       "      <th>Page Content</th>\n",
       "      <th>Metadata</th>\n",
       "    </tr>\n",
       "  </thead>\n",
       "  <tbody>\n",
       "    <tr>\n",
       "      <th>0</th>\n",
       "      <td>Option_0</td>\n",
       "      <td>True</td>\n",
       "      <td>2</td>\n",
       "      <td>Paris, France</td>\n",
       "      <td>As a 70-year-old retiree, I recently had the p...</td>\n",
       "      <td>{'location': {'s3Location': {'uri': 's3://know...</td>\n",
       "    </tr>\n",
       "    <tr>\n",
       "      <th>1</th>\n",
       "      <td>Option_0</td>\n",
       "      <td>True</td>\n",
       "      <td>2</td>\n",
       "      <td>Paris, France</td>\n",
       "      <td>I am 45 years old and I am a pet owner. I rece...</td>\n",
       "      <td>{'location': {'s3Location': {'uri': 's3://know...</td>\n",
       "    </tr>\n",
       "    <tr>\n",
       "      <th>2</th>\n",
       "      <td>Option_0</td>\n",
       "      <td>True</td>\n",
       "      <td>2</td>\n",
       "      <td>Paris, France</td>\n",
       "      <td>As a 35-year-old traveling with my two dogs, I...</td>\n",
       "      <td>{'location': {'s3Location': {'uri': 's3://know...</td>\n",
       "    </tr>\n",
       "    <tr>\n",
       "      <th>3</th>\n",
       "      <td>Option_0</td>\n",
       "      <td>True</td>\n",
       "      <td>2</td>\n",
       "      <td>Paris, France</td>\n",
       "      <td>If you are looking for something a little more...</td>\n",
       "      <td>{'location': {'s3Location': {'uri': 's3://know...</td>\n",
       "    </tr>\n",
       "    <tr>\n",
       "      <th>4</th>\n",
       "      <td>Option_0</td>\n",
       "      <td>True</td>\n",
       "      <td>5</td>\n",
       "      <td>Tokyo, Japan</td>\n",
       "      <td>As a 35-year-old parent of two young children,...</td>\n",
       "      <td>{'location': {'s3Location': {'uri': 's3://know...</td>\n",
       "    </tr>\n",
       "  </tbody>\n",
       "</table>\n",
       "</div>"
      ],
      "text/plain": [
       "  Retrieval Approach  Filter  Trip ID    Destination  \\\n",
       "0           Option_0    True        2  Paris, France   \n",
       "1           Option_0    True        2  Paris, France   \n",
       "2           Option_0    True        2  Paris, France   \n",
       "3           Option_0    True        2  Paris, France   \n",
       "4           Option_0    True        5   Tokyo, Japan   \n",
       "\n",
       "                                        Page Content  \\\n",
       "0  As a 70-year-old retiree, I recently had the p...   \n",
       "1  I am 45 years old and I am a pet owner. I rece...   \n",
       "2  As a 35-year-old traveling with my two dogs, I...   \n",
       "3  If you are looking for something a little more...   \n",
       "4  As a 35-year-old parent of two young children,...   \n",
       "\n",
       "                                            Metadata  \n",
       "0  {'location': {'s3Location': {'uri': 's3://know...  \n",
       "1  {'location': {'s3Location': {'uri': 's3://know...  \n",
       "2  {'location': {'s3Location': {'uri': 's3://know...  \n",
       "3  {'location': {'s3Location': {'uri': 's3://know...  \n",
       "4  {'location': {'s3Location': {'uri': 's3://know...  "
      ]
     },
     "execution_count": 50,
     "metadata": {},
     "output_type": "execute_result"
    }
   ],
   "source": [
    "# Initialize lists to store formatted data\n",
    "retrieval_approaches = []\n",
    "filters = []\n",
    "trip_ids = []\n",
    "destinations = []\n",
    "page_contents = []\n",
    "metadata = []\n",
    "\n",
    "# Process each entry\n",
    "for result in results:\n",
    "    retrieval_approach = f'Option_{result[\"retrieval_chain_id\"]}'\n",
    "    filter = result[\"filter\"]\n",
    "    trip_id = result[\"user\"][\"trip_id\"]\n",
    "    destination = result[\"user\"][\"desired_destination\"]\n",
    "\n",
    "    for document in result['documents']:\n",
    "        retrieval_approaches.append(retrieval_approach)\n",
    "        filters.append(filter)\n",
    "        trip_ids.append(trip_id)\n",
    "        destinations.append(destination)\n",
    "        page_contents.append(document.page_content)\n",
    "        metadata.append(document.metadata)\n",
    "            \n",
    "\n",
    "\n",
    "# Create a DataFrame\n",
    "df = pd.DataFrame({\n",
    "    'Retrieval Approach': retrieval_approaches,\n",
    "    'Filter': filters,\n",
    "    'Trip ID': trip_ids,\n",
    "    'Destination': destinations,\n",
    "    'Page Content': page_contents,\n",
    "    'Metadata': metadata\n",
    "})\n",
    "\n",
    "# Save the results to a CSV file\n",
    "df.to_csv('data/output.csv', index=False)\n",
    "output_df = pd.read_csv(f\"data/output.csv\")\n",
    "print(output_df.shape)\n",
    "output_df.head()"
   ]
  },
  {
   "cell_type": "code",
   "execution_count": 51,
   "metadata": {},
   "outputs": [
    {
     "data": {
      "text/html": [
       "<div>\n",
       "<style scoped>\n",
       "    .dataframe tbody tr th:only-of-type {\n",
       "        vertical-align: middle;\n",
       "    }\n",
       "\n",
       "    .dataframe tbody tr th {\n",
       "        vertical-align: top;\n",
       "    }\n",
       "\n",
       "    .dataframe thead th {\n",
       "        text-align: right;\n",
       "    }\n",
       "</style>\n",
       "<table border=\"1\" class=\"dataframe\">\n",
       "  <thead>\n",
       "    <tr style=\"text-align: right;\">\n",
       "      <th></th>\n",
       "      <th>Retrieval Approach</th>\n",
       "      <th>Filter</th>\n",
       "      <th>Trip ID</th>\n",
       "      <th>Destination</th>\n",
       "      <th>Page Content</th>\n",
       "      <th>Metadata</th>\n",
       "    </tr>\n",
       "  </thead>\n",
       "  <tbody>\n",
       "    <tr>\n",
       "      <th>8</th>\n",
       "      <td>Option_0</td>\n",
       "      <td>True</td>\n",
       "      <td>9</td>\n",
       "      <td>Barcelona, Spain</td>\n",
       "      <td>In conclusion, Barcelona is a city that has so...</td>\n",
       "      <td>{'location': {'s3Location': {'uri': 's3://know...</td>\n",
       "    </tr>\n",
       "    <tr>\n",
       "      <th>9</th>\n",
       "      <td>Option_0</td>\n",
       "      <td>True</td>\n",
       "      <td>9</td>\n",
       "      <td>Barcelona, Spain</td>\n",
       "      <td>As a 65-year-old retiree, I recently visited B...</td>\n",
       "      <td>{'location': {'s3Location': {'uri': 's3://know...</td>\n",
       "    </tr>\n",
       "    <tr>\n",
       "      <th>10</th>\n",
       "      <td>Option_0</td>\n",
       "      <td>True</td>\n",
       "      <td>9</td>\n",
       "      <td>Barcelona, Spain</td>\n",
       "      <td>As a 30-year-old pet owner, I recently visited...</td>\n",
       "      <td>{'location': {'s3Location': {'uri': 's3://know...</td>\n",
       "    </tr>\n",
       "    <tr>\n",
       "      <th>11</th>\n",
       "      <td>Option_0</td>\n",
       "      <td>True</td>\n",
       "      <td>9</td>\n",
       "      <td>Barcelona, Spain</td>\n",
       "      <td>As a couple in our early thirties, we recently...</td>\n",
       "      <td>{'location': {'s3Location': {'uri': 's3://know...</td>\n",
       "    </tr>\n",
       "    <tr>\n",
       "      <th>48</th>\n",
       "      <td>Option_0</td>\n",
       "      <td>False</td>\n",
       "      <td>9</td>\n",
       "      <td>Barcelona, Spain</td>\n",
       "      <td>{   \"metadataAttributes\": {     \"age\": [      ...</td>\n",
       "      <td>{'location': {'s3Location': {'uri': 's3://know...</td>\n",
       "    </tr>\n",
       "    <tr>\n",
       "      <th>49</th>\n",
       "      <td>Option_0</td>\n",
       "      <td>False</td>\n",
       "      <td>9</td>\n",
       "      <td>Barcelona, Spain</td>\n",
       "      <td>As a 35-year-old mother of two young children,...</td>\n",
       "      <td>{'location': {'s3Location': {'uri': 's3://know...</td>\n",
       "    </tr>\n",
       "    <tr>\n",
       "      <th>50</th>\n",
       "      <td>Option_0</td>\n",
       "      <td>False</td>\n",
       "      <td>9</td>\n",
       "      <td>Barcelona, Spain</td>\n",
       "      <td>As a 65-year-old retiree, I recently visited B...</td>\n",
       "      <td>{'location': {'s3Location': {'uri': 's3://know...</td>\n",
       "    </tr>\n",
       "    <tr>\n",
       "      <th>51</th>\n",
       "      <td>Option_0</td>\n",
       "      <td>False</td>\n",
       "      <td>9</td>\n",
       "      <td>Barcelona, Spain</td>\n",
       "      <td>As a 25-year-old solo traveler, I recently vis...</td>\n",
       "      <td>{'location': {'s3Location': {'uri': 's3://know...</td>\n",
       "    </tr>\n",
       "    <tr>\n",
       "      <th>64</th>\n",
       "      <td>Option_1</td>\n",
       "      <td>True</td>\n",
       "      <td>9</td>\n",
       "      <td>Barcelona, Spain</td>\n",
       "      <td>In conclusion, Barcelona is a city that has so...</td>\n",
       "      <td>{'location': {'s3Location': {'uri': 's3://know...</td>\n",
       "    </tr>\n",
       "    <tr>\n",
       "      <th>65</th>\n",
       "      <td>Option_1</td>\n",
       "      <td>True</td>\n",
       "      <td>9</td>\n",
       "      <td>Barcelona, Spain</td>\n",
       "      <td>As a 65-year-old retiree, I recently visited B...</td>\n",
       "      <td>{'location': {'s3Location': {'uri': 's3://know...</td>\n",
       "    </tr>\n",
       "    <tr>\n",
       "      <th>66</th>\n",
       "      <td>Option_1</td>\n",
       "      <td>True</td>\n",
       "      <td>9</td>\n",
       "      <td>Barcelona, Spain</td>\n",
       "      <td>As a 30-year-old pet owner, I recently visited...</td>\n",
       "      <td>{'location': {'s3Location': {'uri': 's3://know...</td>\n",
       "    </tr>\n",
       "    <tr>\n",
       "      <th>67</th>\n",
       "      <td>Option_1</td>\n",
       "      <td>True</td>\n",
       "      <td>9</td>\n",
       "      <td>Barcelona, Spain</td>\n",
       "      <td>As a couple in our early thirties, we recently...</td>\n",
       "      <td>{'location': {'s3Location': {'uri': 's3://know...</td>\n",
       "    </tr>\n",
       "    <tr>\n",
       "      <th>104</th>\n",
       "      <td>Option_1</td>\n",
       "      <td>False</td>\n",
       "      <td>9</td>\n",
       "      <td>Barcelona, Spain</td>\n",
       "      <td>{   \"metadataAttributes\": {     \"age\": [      ...</td>\n",
       "      <td>{'location': {'s3Location': {'uri': 's3://know...</td>\n",
       "    </tr>\n",
       "    <tr>\n",
       "      <th>105</th>\n",
       "      <td>Option_1</td>\n",
       "      <td>False</td>\n",
       "      <td>9</td>\n",
       "      <td>Barcelona, Spain</td>\n",
       "      <td>As a 35-year-old mother of two young children,...</td>\n",
       "      <td>{'location': {'s3Location': {'uri': 's3://know...</td>\n",
       "    </tr>\n",
       "    <tr>\n",
       "      <th>106</th>\n",
       "      <td>Option_1</td>\n",
       "      <td>False</td>\n",
       "      <td>9</td>\n",
       "      <td>Barcelona, Spain</td>\n",
       "      <td>As a 65-year-old retiree, I recently visited B...</td>\n",
       "      <td>{'location': {'s3Location': {'uri': 's3://know...</td>\n",
       "    </tr>\n",
       "    <tr>\n",
       "      <th>107</th>\n",
       "      <td>Option_1</td>\n",
       "      <td>False</td>\n",
       "      <td>9</td>\n",
       "      <td>Barcelona, Spain</td>\n",
       "      <td>As a 25-year-old solo traveler, I recently vis...</td>\n",
       "      <td>{'location': {'s3Location': {'uri': 's3://know...</td>\n",
       "    </tr>\n",
       "  </tbody>\n",
       "</table>\n",
       "</div>"
      ],
      "text/plain": [
       "    Retrieval Approach  Filter  Trip ID       Destination  \\\n",
       "8             Option_0    True        9  Barcelona, Spain   \n",
       "9             Option_0    True        9  Barcelona, Spain   \n",
       "10            Option_0    True        9  Barcelona, Spain   \n",
       "11            Option_0    True        9  Barcelona, Spain   \n",
       "48            Option_0   False        9  Barcelona, Spain   \n",
       "49            Option_0   False        9  Barcelona, Spain   \n",
       "50            Option_0   False        9  Barcelona, Spain   \n",
       "51            Option_0   False        9  Barcelona, Spain   \n",
       "64            Option_1    True        9  Barcelona, Spain   \n",
       "65            Option_1    True        9  Barcelona, Spain   \n",
       "66            Option_1    True        9  Barcelona, Spain   \n",
       "67            Option_1    True        9  Barcelona, Spain   \n",
       "104           Option_1   False        9  Barcelona, Spain   \n",
       "105           Option_1   False        9  Barcelona, Spain   \n",
       "106           Option_1   False        9  Barcelona, Spain   \n",
       "107           Option_1   False        9  Barcelona, Spain   \n",
       "\n",
       "                                          Page Content  \\\n",
       "8    In conclusion, Barcelona is a city that has so...   \n",
       "9    As a 65-year-old retiree, I recently visited B...   \n",
       "10   As a 30-year-old pet owner, I recently visited...   \n",
       "11   As a couple in our early thirties, we recently...   \n",
       "48   {   \"metadataAttributes\": {     \"age\": [      ...   \n",
       "49   As a 35-year-old mother of two young children,...   \n",
       "50   As a 65-year-old retiree, I recently visited B...   \n",
       "51   As a 25-year-old solo traveler, I recently vis...   \n",
       "64   In conclusion, Barcelona is a city that has so...   \n",
       "65   As a 65-year-old retiree, I recently visited B...   \n",
       "66   As a 30-year-old pet owner, I recently visited...   \n",
       "67   As a couple in our early thirties, we recently...   \n",
       "104  {   \"metadataAttributes\": {     \"age\": [      ...   \n",
       "105  As a 35-year-old mother of two young children,...   \n",
       "106  As a 65-year-old retiree, I recently visited B...   \n",
       "107  As a 25-year-old solo traveler, I recently vis...   \n",
       "\n",
       "                                              Metadata  \n",
       "8    {'location': {'s3Location': {'uri': 's3://know...  \n",
       "9    {'location': {'s3Location': {'uri': 's3://know...  \n",
       "10   {'location': {'s3Location': {'uri': 's3://know...  \n",
       "11   {'location': {'s3Location': {'uri': 's3://know...  \n",
       "48   {'location': {'s3Location': {'uri': 's3://know...  \n",
       "49   {'location': {'s3Location': {'uri': 's3://know...  \n",
       "50   {'location': {'s3Location': {'uri': 's3://know...  \n",
       "51   {'location': {'s3Location': {'uri': 's3://know...  \n",
       "64   {'location': {'s3Location': {'uri': 's3://know...  \n",
       "65   {'location': {'s3Location': {'uri': 's3://know...  \n",
       "66   {'location': {'s3Location': {'uri': 's3://know...  \n",
       "67   {'location': {'s3Location': {'uri': 's3://know...  \n",
       "104  {'location': {'s3Location': {'uri': 's3://know...  \n",
       "105  {'location': {'s3Location': {'uri': 's3://know...  \n",
       "106  {'location': {'s3Location': {'uri': 's3://know...  \n",
       "107  {'location': {'s3Location': {'uri': 's3://know...  "
      ]
     },
     "execution_count": 51,
     "metadata": {},
     "output_type": "execute_result"
    }
   ],
   "source": [
    "# Analyzing the results, you will see that the first half of the documents are identical to the second half. In addition when metadata filters are not used the documents retrieved are occasionally for the wrong location. For example Trip ID 9 is to Barcelona but retriever pulls documents about Lisbon.\n",
    "\n",
    "output_df.query('`Trip ID` == 9')"
   ]
  },
  {
   "cell_type": "markdown",
   "metadata": {},
   "source": [
    "# Cleanup"
   ]
  },
  {
   "cell_type": "markdown",
   "metadata": {},
   "source": [
    "To avoid incurring additional charges be sure to delete your [Bedrock Knowledge Base](https://docs.aws.amazon.com/bedrock/latest/userguide/knowledge-base-manage.html#kb-delete) and underlying [S3 bucket](https://docs.aws.amazon.com/AmazonS3/latest/userguide/delete-bucket.html)."
   ]
  }
 ],
 "metadata": {
  "kernelspec": {
   "display_name": ".venv",
   "language": "python",
   "name": "python3"
  },
  "language_info": {
   "codemirror_mode": {
    "name": "ipython",
    "version": 3
   },
   "file_extension": ".py",
   "mimetype": "text/x-python",
   "name": "python",
   "nbconvert_exporter": "python",
   "pygments_lexer": "ipython3",
   "version": "3.12.7"
  }
 },
 "nbformat": 4,
 "nbformat_minor": 4
}
